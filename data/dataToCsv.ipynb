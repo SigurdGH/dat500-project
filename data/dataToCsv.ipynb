{
 "cells": [
  {
   "cell_type": "code",
   "execution_count": 1,
   "metadata": {},
   "outputs": [],
   "source": [
    "import pandas as pd\n",
    "import requests\n",
    "import ssl\n",
    "import urllib\n",
    "import pandas as pd"
   ]
  },
  {
   "cell_type": "code",
   "execution_count": 2,
   "metadata": {},
   "outputs": [],
   "source": [
    "sslcon = ssl._create_unverified_context()\n",
    "url = urllib.request.urlopen(\"https://www.ux.uis.no/~vsetty/data/assignment2_aricles.json\", context=sslcon)\n",
    "data = pd.read_json(url)"
   ]
  },
  {
   "cell_type": "code",
   "execution_count": 3,
   "metadata": {},
   "outputs": [],
   "source": [
    "# All the data\n",
    "data.to_csv(\"articles_all.csv\", index=False,  header=False, sep=\"|\")"
   ]
  },
  {
   "cell_type": "code",
   "execution_count": 4,
   "metadata": {},
   "outputs": [],
   "source": [
    "# Sample of the data\n",
    "size = 25000\n",
    "sample_data = data.iloc[0:size]\n",
    "sample_data.to_csv(\"articles_25000.csv\", index=False,  header=False, sep=\"|\")"
   ]
  }
 ],
 "metadata": {
  "interpreter": {
   "hash": "0a45ecffff3170bdae81af7160217f794177e77bf7a1f619f789f31bbea350d6"
  },
  "kernelspec": {
   "display_name": "Python 3.9.0 32-bit",
   "language": "python",
   "name": "python3"
  },
  "language_info": {
   "codemirror_mode": {
    "name": "ipython",
    "version": 3
   },
   "file_extension": ".py",
   "mimetype": "text/x-python",
   "name": "python",
   "nbconvert_exporter": "python",
   "pygments_lexer": "ipython3",
   "version": "3.9.1"
  },
  "orig_nbformat": 4
 },
 "nbformat": 4,
 "nbformat_minor": 2
}
